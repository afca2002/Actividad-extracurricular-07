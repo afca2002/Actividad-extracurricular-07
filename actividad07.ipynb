{
 "cells": [
  {
   "cell_type": "markdown",
   "metadata": {},
   "source": [
    "# [Actividad extracurricular 07] python formatters\n",
    "## REALIZADO por : Correa Adrian"
   ]
  },
  {
   "cell_type": "code",
   "execution_count": 1,
   "metadata": {},
   "outputs": [
    {
     "name": "stdout",
     "output_type": "stream",
     "text": [
      "Intentando ordenar los imports con isort...\n"
     ]
    },
    {
     "name": "stdout",
     "output_type": "stream",
     "text": [
      "Imports en Monoproceso.py ordenados con isort.\n",
      "Intentando formatear con Black...\n",
      "Archivo Monoproceso.py formateado con Black.\n",
      "Intentando formatear con autopep8...\n",
      "Archivo Monoproceso.py formateado con autopep8.\n",
      "Intentando formatear con YAPF...\n",
      "Archivo Monoproceso.py formateado con YAPF.\n",
      "Intentando aplicar Blacken (usando Black)...\n",
      "Archivo Monoproceso.py formateado con Blacken (usando Black).\n"
     ]
    }
   ],
   "source": [
    "import os\n",
    "import subprocess\n",
    "\n",
    "def formatear_con_black(file_path):\n",
    "    print(\"Intentando formatear con Black...\")\n",
    "    try:\n",
    "        subprocess.run([\"black\", file_path], check=True)\n",
    "        print(f\"Archivo {file_path} formateado con Black.\")\n",
    "    except subprocess.CalledProcessError:\n",
    "        print(f\"No se pudo formatear el archivo {file_path} con Black.\")\n",
    "\n",
    "def formatear_con_autopep8(file_path):\n",
    "    print(\"Intentando formatear con autopep8...\")\n",
    "    try:\n",
    "        subprocess.run([\"autopep8\", \"--in-place\", file_path], check=True)\n",
    "        print(f\"Archivo {file_path} formateado con autopep8.\")\n",
    "    except subprocess.CalledProcessError:\n",
    "        print(f\"No se pudo formatear el archivo {file_path} con autopep8.\")\n",
    "\n",
    "def formatear_con_yapf(file_path):\n",
    "    print(\"Intentando formatear con YAPF...\")\n",
    "    try:\n",
    "        subprocess.run([\"yapf\", \"-i\", file_path], check=True)\n",
    "        print(f\"Archivo {file_path} formateado con YAPF.\")\n",
    "    except subprocess.CalledProcessError:\n",
    "        print(f\"No se pudo formatear el archivo {file_path} con YAPF.\")\n",
    "\n",
    "def ordenar_imports_con_isort(file_path):\n",
    "    print(\"Intentando ordenar los imports con isort...\")\n",
    "    try:\n",
    "        subprocess.run([\"isort\", file_path], check=True)\n",
    "        print(f\"Imports en {file_path} ordenados con isort.\")\n",
    "    except subprocess.CalledProcessError:\n",
    "        print(f\"No se pudo ordenar los imports en {file_path} con isort.\")\n",
    "\n",
    "def formatear_con_blacken(file_path):\n",
    "    print(\"Intentando aplicar Blacken (usando Black)...\")\n",
    "    try:\n",
    "        subprocess.run([\"black\", file_path], check=True)\n",
    "        print(f\"Archivo {file_path} formateado con Blacken (usando Black).\")\n",
    "    except subprocess.CalledProcessError:\n",
    "        print(f\"No se pudo formatear el archivo {file_path} con Blacken.\")\n",
    "\n",
    "def formatear_archivo(file_path):\n",
    "    if not os.path.isfile(file_path):\n",
    "        print(f\"El archivo {file_path} no existe.\")\n",
    "        return\n",
    "\n",
    "    # Aplicar isort para ordenar los imports primero\n",
    "    ordenar_imports_con_isort(file_path)\n",
    "    # Aplicar Black\n",
    "    formatear_con_black(file_path)\n",
    "    # Aplicar autopep8\n",
    "    formatear_con_autopep8(file_path)\n",
    "    # Aplicar YAPF\n",
    "    formatear_con_yapf(file_path)\n",
    "    # Aplicar Blacken (usando Black nuevamente para el formato final)\n",
    "    formatear_con_blacken(file_path)\n",
    "\n",
    "if __name__ == \"__main__\":\n",
    "    # Reemplaza 'your_file.py' con la ruta al archivo Python que deseas formatear\n",
    "    archivo_a_formatear = \"Monoproceso.py\"  # Cambia 'example.py' por el archivo que deseas formatear\n",
    "    formatear_archivo(archivo_a_formatear)"
   ]
  }
 ],
 "metadata": {
  "kernelspec": {
   "display_name": "Python 3",
   "language": "python",
   "name": "python3"
  },
  "language_info": {
   "codemirror_mode": {
    "name": "ipython",
    "version": 3
   },
   "file_extension": ".py",
   "mimetype": "text/x-python",
   "name": "python",
   "nbconvert_exporter": "python",
   "pygments_lexer": "ipython3",
   "version": "3.13.0"
  }
 },
 "nbformat": 4,
 "nbformat_minor": 2
}
