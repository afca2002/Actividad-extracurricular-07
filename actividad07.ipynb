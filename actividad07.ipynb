{
 "cells": [
  {
   "cell_type": "markdown",
   "metadata": {},
   "source": [
    "# [Actividad extracurricular 07] python formatters\n",
    "## REALIZADO por : Correa Adrian"
   ]
  },
  {
   "cell_type": "code",
   "execution_count": 1,
   "metadata": {},
   "outputs": [
    {
     "name": "stdout",
     "output_type": "stream",
     "text": [
      "Sorted imports in Monoproceso.py with isort.\n",
      "Formatted Monoproceso.py with Black.\n",
      "Formatted Monoproceso.py with autopep8.\n",
      "Formatted Monoproceso.py with YAPF.\n",
      "Formatted Monoproceso.py with Blacken (using Black).\n"
     ]
    }
   ],
   "source": [
    "import os\n",
    "import subprocess\n",
    "\n",
    "def format_with_black(file_path):\n",
    "    try:\n",
    "        subprocess.run([\"black\", file_path], check=True)\n",
    "        print(f\"Formatted {file_path} with Black.\")\n",
    "    except subprocess.CalledProcessError:\n",
    "        print(f\"Failed to format {file_path} with Black.\")\n",
    "\n",
    "def format_with_autopep8(file_path):\n",
    "    try:\n",
    "        subprocess.run([\"autopep8\", \"--in-place\", file_path], check=True)\n",
    "        print(f\"Formatted {file_path} with autopep8.\")\n",
    "    except subprocess.CalledProcessError:\n",
    "        print(f\"Failed to format {file_path} with autopep8.\")\n",
    "\n",
    "def format_with_yapf(file_path):\n",
    "    try:\n",
    "        subprocess.run([\"yapf\", \"-i\", file_path], check=True)\n",
    "        print(f\"Formatted {file_path} with YAPF.\")\n",
    "    except subprocess.CalledProcessError:\n",
    "        print(f\"Failed to format {file_path} with YAPF.\")\n",
    "\n",
    "def sort_imports_with_isort(file_path):\n",
    "    try:\n",
    "        subprocess.run([\"isort\", file_path], check=True)\n",
    "        print(f\"Sorted imports in {file_path} with isort.\")\n",
    "    except subprocess.CalledProcessError:\n",
    "        print(f\"Failed to sort imports in {file_path} with isort.\")\n",
    "\n",
    "def format_with_blacken(file_path):\n",
    "    try:\n",
    "        subprocess.run([\"black\", file_path], check=True)\n",
    "        print(f\"Formatted {file_path} with Blacken (using Black).\")\n",
    "    except subprocess.CalledProcessError:\n",
    "        print(f\"Failed to format {file_path} with Blacken.\")\n",
    "\n",
    "def format_file(file_path):\n",
    "    if not os.path.isfile(file_path):\n",
    "        print(f\"The file {file_path} does not exist.\")\n",
    "        return\n",
    "\n",
    "    # Apply isort to sort imports first\n",
    "    sort_imports_with_isort(file_path)\n",
    "    # Apply Black\n",
    "    format_with_black(file_path)\n",
    "    # Apply autopep8\n",
    "    format_with_autopep8(file_path)\n",
    "    # Apply YAPF\n",
    "    format_with_yapf(file_path)\n",
    "    # Apply Blacken (using Black again for final format)\n",
    "    format_with_blacken(file_path)\n",
    "\n",
    "if __name__ == \"__main__\":\n",
    "    # Replace 'your_file.py' with the path to the Python file you want to format\n",
    "    file_to_format = \"Monoproceso.py\"  # Cambia 'example.py' por el archivo que deseas formatear\n",
    "    format_file(file_to_format)\n"
   ]
  }
 ],
 "metadata": {
  "kernelspec": {
   "display_name": "Python 3",
   "language": "python",
   "name": "python3"
  },
  "language_info": {
   "codemirror_mode": {
    "name": "ipython",
    "version": 3
   },
   "file_extension": ".py",
   "mimetype": "text/x-python",
   "name": "python",
   "nbconvert_exporter": "python",
   "pygments_lexer": "ipython3",
   "version": "3.13.0"
  }
 },
 "nbformat": 4,
 "nbformat_minor": 2
}
